{
 "cells": [
  {
   "cell_type": "code",
   "execution_count": null,
   "metadata": {
    "id": "eWU9lVn2SLuY"
   },
   "outputs": [],
   "source": [
    "!pip install tensorflow_text # Restart the colab again after installing"
   ]
  },
  {
   "cell_type": "code",
   "execution_count": null,
   "metadata": {
    "id": "rE6cKRxcAYnY"
   },
   "outputs": [],
   "source": [
    "import pandas as pd\n",
    "import numpy as np\n",
    "\n",
    "from sklearn.model_selection import train_test_split\n",
    "import tensorflow as tf\n",
    "import tensorflow_hub as hub\n",
    "import tensorflow_text as text\n",
    "bert_preprocess = hub.KerasLayer(\"https://tfhub.dev/tensorflow/bert_en_uncased_preprocess/3\")\n",
    "bert_encoder = hub.KerasLayer(\"https://tfhub.dev/tensorflow/bert_en_uncased_L-12_H-768_A-12/4\")\n",
    "from sklearn.metrics import classification_report\n",
    "import nltk\n",
    "nltk.download('punkt')\n",
    "import Preprocessing as pre\n",
    "import Data_Exploratory as exp"
   ]
  },
  {
   "cell_type": "code",
   "execution_count": null,
   "metadata": {
    "id": "ojsm9-aZ5GlE"
   },
   "outputs": [],
   "source": [
    "class supervised():\n",
    "\n",
    "    def __init__(self, filename):\n",
    "        self.name = filename\n",
    "        self.df = pd.read_csv(filename+\".csv\")\n",
    "        self.X_train = []\n",
    "        self.X_val = []\n",
    "        self.y_train = []\n",
    "        self.y_val = []\n",
    "        self.model = 0\n",
    "        self.train_df = pd.DataFrame()\n",
    "        self.test_df = pd.DataFrame()\n",
    "\n",
    "    def get_dataframe(self):\n",
    "        return self.df\n",
    "    \n",
    "    def display(self):\n",
    "        display(self.df.head())\n",
    "\n",
    "    def downsample(self):\n",
    "        self.df.drop = self.df.dropna(axis=0, subset=['target'])\n",
    "        print(\"ORIGINAL SIZE of DATAFRAME IS \",len(self.df))\n",
    "        trump_df = self.df[self.df['target'] == 'trump']\n",
    "        biden_df = self.df[self.df['target'] == 'biden']\n",
    "        df_biden_downsampled = biden_df.sample(trump_df.shape[0])\n",
    "        self.df  = pd.concat([df_biden_downsampled, trump_df])\n",
    "        print(\"DOWNSAMPLED THE DATAFRAME TO EQUAL SIZES\")\n",
    "        display(self.df['target'].value_counts())\n",
    "\n",
    "    def split_data(self):\n",
    "        self.df['vote'] = self.df['target'].apply(lambda x: 1 if x=='trump' else 0)\n",
    "        X = self.df['text']\n",
    "        y = self.df['vote']\n",
    "        self.X_train, self.X_val, self.y_train, self.y_val = train_test_split(X,y, stratify=y)\n",
    "        print(\"Length of X_train\",len(self.X_train))\n",
    "        print(\"Length of y_train\",len(self.y_train))\n",
    "        print(\"Length of X_val\",len(self.X_val))\n",
    "        print(\"Length of y_val\",len(self.y_val))\n",
    "\n",
    "    def neural_network(self):\n",
    "        text_input = tf.keras.layers.Input(shape=(), dtype=tf.string, name='text')\n",
    "        preprocessed_text = bert_preprocess(text_input)\n",
    "        outputs = bert_encoder(preprocessed_text)\n",
    "        l = tf.keras.layers.Dropout(0.1, name=\"dropout\")(outputs['pooled_output'])\n",
    "        l = tf.keras.layers.Dense(1, activation='sigmoid', name=\"output\")(l)\n",
    "        self.model = tf.keras.Model(inputs=[text_input], outputs = [l])\n",
    "        display(self.model.summary())\n",
    "\n",
    "    def metrics(self):\n",
    "        METRICS = [\n",
    "            tf.keras.metrics.BinaryAccuracy(name='accuracy'),\n",
    "            tf.keras.metrics.Precision(name='precision'),\n",
    "            tf.keras.metrics.Recall(name='recall')\n",
    "            ]\n",
    "        self.model.compile(optimizer='adam',\n",
    "        loss='binary_crossentropy',\n",
    "        metrics=METRICS)\n",
    "\n",
    "    def training(self):\n",
    "        self.metrics()\n",
    "        self.model.fit(self.X_train, self.y_train, epochs=10)\n",
    "  \n",
    "    def predict_validation(self):\n",
    "        y_predicted = self.model.predict(self.X_val)\n",
    "        y_predicted = y_predicted.flatten()\n",
    "        y_predicted = np.where(y_predicted > 0.5, 1, 0)\n",
    "        val_df = pd.DataFrame(data={\"Doc\":self.X_val,\"target\":self.y_val,\"predict_validation\":y_predicted})\n",
    "        print(classification_report(self.y_val, y_predicted))\n",
    "        val_df.to_csv(\"validation_predicted_df.csv\")\n",
    "  \n",
    "    def testing(self, filename):\n",
    "        self.test_df = pd.read_csv(filename+\".csv\")\n",
    "        obj = pre.preprocessing(filename)\n",
    "        obj.remove_unicode()\n",
    "        obj.lowercase()\n",
    "        obj.negation_words()\n",
    "        obj.filter_rules()\n",
    "        df = obj.get_dataframe()\n",
    "        display(df)\n",
    "        df.to_csv(\"preprocess_test_\"+filename+\".csv\")\n",
    "        obj2 = exp.data_exploratory(\"preprocess_test_\"+filename)\n",
    "        obj2.pre_election(True)\n",
    "        obj2.trim_document(20)\n",
    "        df = obj2.get_dataframe()\n",
    "        y_predicted = self.model.predict(df['text'])\n",
    "        y_predicted = y_predicted.flatten()\n",
    "        y_predicted = np.where(y_predicted > 0.5, 1, 0)\n",
    "        labeled_test_df = pd.DataFrame(data={\"Doc\":df['text'],\"predict_testing\":y_predicted})\n",
    "        labeled_test_df.to_csv(\"testing_predicted_df.csv\")"
   ]
  },
  {
   "cell_type": "code",
   "execution_count": null,
   "metadata": {
    "id": "bO5YVikGKdRW"
   },
   "outputs": [],
   "source": [
    "obj = supervised(\"labeled_votes\")\n",
    "#obj.get_dataframe()\n",
    "obj.downsample()\n",
    "obj.split_data()"
   ]
  },
  {
   "cell_type": "code",
   "execution_count": null,
   "metadata": {
    "id": "OUCF4U7HPcG3"
   },
   "outputs": [],
   "source": [
    "obj.neural_network()"
   ]
  },
  {
   "cell_type": "code",
   "execution_count": null,
   "metadata": {
    "id": "tE3-tr57Phyr"
   },
   "outputs": [],
   "source": [
    "obj.training()"
   ]
  },
  {
   "cell_type": "code",
   "execution_count": null,
   "metadata": {
    "id": "cQjva-cmWqmJ"
   },
   "outputs": [],
   "source": [
    "obj.predict_validation()"
   ]
  },
  {
   "cell_type": "code",
   "execution_count": null,
   "metadata": {
    "id": "UJD5uHh0Xto2"
   },
   "outputs": [],
   "source": [
    "obj.testing(\"Forecasting_MSNBC\")"
   ]
  }
 ],
 "metadata": {
  "accelerator": "GPU",
  "colab": {
   "provenance": []
  },
  "gpuClass": "standard",
  "kernelspec": {
   "display_name": "Python 3 (ipykernel)",
   "language": "python",
   "name": "python3"
  },
  "language_info": {
   "codemirror_mode": {
    "name": "ipython",
    "version": 3
   },
   "file_extension": ".py",
   "mimetype": "text/x-python",
   "name": "python",
   "nbconvert_exporter": "python",
   "pygments_lexer": "ipython3",
   "version": "3.9.12"
  }
 },
 "nbformat": 4,
 "nbformat_minor": 1
}
