{
 "cells": [
  {
   "cell_type": "code",
   "execution_count": 6,
   "metadata": {
    "id": "irK7NAlule9a"
   },
   "outputs": [
    {
     "name": "stdout",
     "output_type": "stream",
     "text": [
      "Requirement already satisfied: bertopic in /Users/sam/opt/anaconda3/lib/python3.9/site-packages (0.12.0)\n",
      "Requirement already satisfied: scikit-learn>=0.22.2.post1 in /Users/sam/opt/anaconda3/lib/python3.9/site-packages (from bertopic) (1.0.2)\n",
      "Requirement already satisfied: numpy>=1.20.0 in /Users/sam/opt/anaconda3/lib/python3.9/site-packages (from bertopic) (1.21.5)\n",
      "Requirement already satisfied: hdbscan>=0.8.28 in /Users/sam/opt/anaconda3/lib/python3.9/site-packages (from bertopic) (0.8.29)\n",
      "Requirement already satisfied: tqdm>=4.41.1 in /Users/sam/opt/anaconda3/lib/python3.9/site-packages (from bertopic) (4.64.0)\n",
      "Requirement already satisfied: umap-learn>=0.5.0 in /Users/sam/opt/anaconda3/lib/python3.9/site-packages (from bertopic) (0.5.3)\n",
      "Requirement already satisfied: pandas>=1.1.5 in /Users/sam/opt/anaconda3/lib/python3.9/site-packages (from bertopic) (1.4.2)\n",
      "Requirement already satisfied: sentence-transformers>=0.4.1 in /Users/sam/opt/anaconda3/lib/python3.9/site-packages (from bertopic) (2.2.2)\n",
      "Requirement already satisfied: plotly>=4.7.0 in /Users/sam/opt/anaconda3/lib/python3.9/site-packages (from bertopic) (5.6.0)\n",
      "Requirement already satisfied: pyyaml<6.0 in /Users/sam/opt/anaconda3/lib/python3.9/site-packages (from bertopic) (5.4.1)\n",
      "Requirement already satisfied: scipy>=1.0 in /Users/sam/opt/anaconda3/lib/python3.9/site-packages (from hdbscan>=0.8.28->bertopic) (1.9.3)\n",
      "Requirement already satisfied: joblib>=1.0 in /Users/sam/opt/anaconda3/lib/python3.9/site-packages (from hdbscan>=0.8.28->bertopic) (1.1.0)\n",
      "Requirement already satisfied: cython>=0.27 in /Users/sam/opt/anaconda3/lib/python3.9/site-packages (from hdbscan>=0.8.28->bertopic) (0.29.28)\n",
      "Requirement already satisfied: python-dateutil>=2.8.1 in /Users/sam/opt/anaconda3/lib/python3.9/site-packages (from pandas>=1.1.5->bertopic) (2.8.2)\n",
      "Requirement already satisfied: pytz>=2020.1 in /Users/sam/opt/anaconda3/lib/python3.9/site-packages (from pandas>=1.1.5->bertopic) (2021.3)\n",
      "Requirement already satisfied: tenacity>=6.2.0 in /Users/sam/opt/anaconda3/lib/python3.9/site-packages (from plotly>=4.7.0->bertopic) (8.0.1)\n",
      "Requirement already satisfied: six in /Users/sam/opt/anaconda3/lib/python3.9/site-packages (from plotly>=4.7.0->bertopic) (1.16.0)\n",
      "Requirement already satisfied: threadpoolctl>=2.0.0 in /Users/sam/opt/anaconda3/lib/python3.9/site-packages (from scikit-learn>=0.22.2.post1->bertopic) (2.2.0)\n",
      "Requirement already satisfied: huggingface-hub>=0.4.0 in /Users/sam/opt/anaconda3/lib/python3.9/site-packages (from sentence-transformers>=0.4.1->bertopic) (0.10.1)\n",
      "Requirement already satisfied: sentencepiece in /Users/sam/opt/anaconda3/lib/python3.9/site-packages (from sentence-transformers>=0.4.1->bertopic) (0.1.95)\n",
      "Requirement already satisfied: nltk in /Users/sam/opt/anaconda3/lib/python3.9/site-packages (from sentence-transformers>=0.4.1->bertopic) (3.7)\n",
      "Requirement already satisfied: torch>=1.6.0 in /Users/sam/opt/anaconda3/lib/python3.9/site-packages (from sentence-transformers>=0.4.1->bertopic) (1.13.0)\n",
      "Requirement already satisfied: transformers<5.0.0,>=4.6.0 in /Users/sam/opt/anaconda3/lib/python3.9/site-packages (from sentence-transformers>=0.4.1->bertopic) (4.24.0)\n",
      "Requirement already satisfied: torchvision in /Users/sam/opt/anaconda3/lib/python3.9/site-packages (from sentence-transformers>=0.4.1->bertopic) (0.14.0)\n",
      "Requirement already satisfied: filelock in /Users/sam/opt/anaconda3/lib/python3.9/site-packages (from huggingface-hub>=0.4.0->sentence-transformers>=0.4.1->bertopic) (3.6.0)\n",
      "Requirement already satisfied: requests in /Users/sam/opt/anaconda3/lib/python3.9/site-packages (from huggingface-hub>=0.4.0->sentence-transformers>=0.4.1->bertopic) (2.27.1)\n",
      "Requirement already satisfied: typing-extensions>=3.7.4.3 in /Users/sam/opt/anaconda3/lib/python3.9/site-packages (from huggingface-hub>=0.4.0->sentence-transformers>=0.4.1->bertopic) (4.1.1)\n",
      "Requirement already satisfied: packaging>=20.9 in /Users/sam/opt/anaconda3/lib/python3.9/site-packages (from huggingface-hub>=0.4.0->sentence-transformers>=0.4.1->bertopic) (21.3)\n",
      "Requirement already satisfied: pyparsing!=3.0.5,>=2.0.2 in /Users/sam/opt/anaconda3/lib/python3.9/site-packages (from packaging>=20.9->huggingface-hub>=0.4.0->sentence-transformers>=0.4.1->bertopic) (3.0.4)\n",
      "Requirement already satisfied: regex!=2019.12.17 in /Users/sam/opt/anaconda3/lib/python3.9/site-packages (from transformers<5.0.0,>=4.6.0->sentence-transformers>=0.4.1->bertopic) (2022.3.15)\n",
      "Requirement already satisfied: tokenizers!=0.11.3,<0.14,>=0.11.1 in /Users/sam/opt/anaconda3/lib/python3.9/site-packages (from transformers<5.0.0,>=4.6.0->sentence-transformers>=0.4.1->bertopic) (0.13.1)\n",
      "Requirement already satisfied: pynndescent>=0.5 in /Users/sam/opt/anaconda3/lib/python3.9/site-packages (from umap-learn>=0.5.0->bertopic) (0.5.7)\n",
      "Requirement already satisfied: numba>=0.49 in /Users/sam/opt/anaconda3/lib/python3.9/site-packages (from umap-learn>=0.5.0->bertopic) (0.55.1)\n",
      "Requirement already satisfied: llvmlite<0.39,>=0.38.0rc1 in /Users/sam/opt/anaconda3/lib/python3.9/site-packages (from numba>=0.49->umap-learn>=0.5.0->bertopic) (0.38.0)\n",
      "Requirement already satisfied: setuptools in /Users/sam/opt/anaconda3/lib/python3.9/site-packages (from numba>=0.49->umap-learn>=0.5.0->bertopic) (61.2.0)\n",
      "Requirement already satisfied: click in /Users/sam/opt/anaconda3/lib/python3.9/site-packages (from nltk->sentence-transformers>=0.4.1->bertopic) (8.0.4)\n",
      "Requirement already satisfied: urllib3<1.27,>=1.21.1 in /Users/sam/opt/anaconda3/lib/python3.9/site-packages (from requests->huggingface-hub>=0.4.0->sentence-transformers>=0.4.1->bertopic) (1.26.9)\n",
      "Requirement already satisfied: certifi>=2017.4.17 in /Users/sam/opt/anaconda3/lib/python3.9/site-packages (from requests->huggingface-hub>=0.4.0->sentence-transformers>=0.4.1->bertopic) (2021.10.8)\n",
      "Requirement already satisfied: charset-normalizer~=2.0.0 in /Users/sam/opt/anaconda3/lib/python3.9/site-packages (from requests->huggingface-hub>=0.4.0->sentence-transformers>=0.4.1->bertopic) (2.0.4)\n",
      "Requirement already satisfied: idna<4,>=2.5 in /Users/sam/opt/anaconda3/lib/python3.9/site-packages (from requests->huggingface-hub>=0.4.0->sentence-transformers>=0.4.1->bertopic) (3.3)\n",
      "Requirement already satisfied: pillow!=8.3.*,>=5.3.0 in /Users/sam/opt/anaconda3/lib/python3.9/site-packages (from torchvision->sentence-transformers>=0.4.1->bertopic) (9.0.1)\n"
     ]
    }
   ],
   "source": [
    "!pip install bertopic"
   ]
  },
  {
   "cell_type": "code",
   "execution_count": 7,
   "metadata": {
    "id": "DMaQqOJbaP3F"
   },
   "outputs": [
    {
     "name": "stderr",
     "output_type": "stream",
     "text": [
      "[nltk_data] Downloading package punkt to /Users/sam/nltk_data...\n",
      "[nltk_data]   Package punkt is already up-to-date!\n"
     ]
    },
    {
     "data": {
      "text/plain": [
       "True"
      ]
     },
     "execution_count": 7,
     "metadata": {},
     "output_type": "execute_result"
    }
   ],
   "source": [
    "from bertopic import BERTopic\n",
    "from umap import UMAP\n",
    "from hdbscan import HDBSCAN\n",
    "import pandas as pd\n",
    "import pickle\n",
    "from sklearn.feature_extraction.text import CountVectorizer\n",
    "from nltk.tokenize import word_tokenize\n",
    "import nltk\n",
    "nltk.download('punkt')"
   ]
  },
  {
   "cell_type": "code",
   "execution_count": 12,
   "metadata": {
    "id": "Ujbs5BSaZ5VY"
   },
   "outputs": [],
   "source": [
    "class topic_modeling():\n",
    "    \n",
    "    def __init__(self, filename):\n",
    "        self.name = filename\n",
    "        self.df = pd.read_csv(filename+\".csv\")\n",
    "        self.cluster_df = pd.DataFrame()\n",
    "        self.df_info = pd.DataFrame()\n",
    "        self.topics = ''\n",
    "        self.topic_model = ''\n",
    "        self.probs = 0\n",
    "        \n",
    "    def get_dataframe(self):\n",
    "        return self.df\n",
    "\n",
    "    def display(self):\n",
    "        display(self.df.head())\n",
    "    \n",
    "    #Function to do topic modeling using BERT\n",
    "    def bert_topic_modeling(self, min_cluster_size = 2500,min_samples=1000,n_neighbors=200):\n",
    "        vectorizer_model = CountVectorizer(stop_words=\"english\")\n",
    "        umap_model = UMAP(n_neighbors=200, n_components=10, min_dist=0.0, metric='cosine', random_state=42)\n",
    "        hdbscan_model = HDBSCAN(min_cluster_size=min_cluster_size, min_samples=min_samples, metric='euclidean', cluster_selection_method='eom', prediction_data=True)\n",
    "        seed_topic_list = [[\"trump\", \"donald\", \"conservative\"],\n",
    "                       [\"biden\", \"joe\", \"china\", \"blue\",\"liberal\"]]\n",
    "        self.topic_model = BERTopic(vectorizer_model=vectorizer_model,language=\"english\", calculate_probabilities=True, verbose=True, hdbscan_model = hdbscan_model, umap_model = umap_model, seed_topic_list=seed_topic_list)\n",
    "        self.topics, self.probs = self.topic_model.fit_transform(self.df['text'])\n",
    "    \n",
    "    #Save models is used to save the topic models, clustered topic model and \n",
    "    def save_models(self, name):\n",
    "        self.topic_model.save(\"Output/\"+name)\n",
    "        self.cluster_df = pd.DataFrame(data={\"docs\":self.df['text'],\"topics\":self.topics})\n",
    "        self.cluster_df.to_csv(\"Output/\"+name+\"_dataframe\"+\".csv\")\n",
    "        self.df_info = self.topic_model.get_topic_info()\n",
    "        self.df_info.to_csv(\"Output/\"+name+\"_info\"+\".csv\")\n",
    "    \n",
    "    def load_model(self,filename):\n",
    "        #topic_model = BERTopic.load(filename)\n",
    "        self.cluster_df = pd.read_csv(\"Output/\"+filename+\"_dataframe\"+\".csv\")\n",
    "        self.df_info = pd.read_csv(\"Output/\"+filename+\"_info\"+\".csv\")\n",
    "        \n",
    "    def analyze_topics(self,n,visualise_topics=False,visualize_hierarchy=False):\n",
    "        print(\"Displaying the types of topics\")\n",
    "        display(self.topic_model.get_topic_info())\n",
    "        print(\"Displaying the import topic keyword probability\")\n",
    "        display(self.topic_model.get_topic(n))\n",
    "        if visualise_topics:\n",
    "            self.topic_model.visualize_topics()\n",
    "        if visualize_hierarchy:\n",
    "            self.topic_model.visualize_hierarchy()"
   ]
  },
  {
   "cell_type": "markdown",
   "metadata": {
    "id": "Al1p16ch0nQm",
    "outputId": "88ebf7ac-e979-4126-8709-0cf3d37754f8"
   },
   "source": [
    "## Topic Modeling"
   ]
  },
  {
   "cell_type": "code",
   "execution_count": 13,
   "metadata": {
    "id": "4fxr49DKZ5VZ"
   },
   "outputs": [
    {
     "data": {
      "text/html": [
       "<div>\n",
       "<style scoped>\n",
       "    .dataframe tbody tr th:only-of-type {\n",
       "        vertical-align: middle;\n",
       "    }\n",
       "\n",
       "    .dataframe tbody tr th {\n",
       "        vertical-align: top;\n",
       "    }\n",
       "\n",
       "    .dataframe thead th {\n",
       "        text-align: right;\n",
       "    }\n",
       "</style>\n",
       "<table border=\"1\" class=\"dataframe\">\n",
       "  <thead>\n",
       "    <tr style=\"text-align: right;\">\n",
       "      <th></th>\n",
       "      <th>Unnamed: 0.1</th>\n",
       "      <th>Unnamed: 0</th>\n",
       "      <th>videoId</th>\n",
       "      <th>commentId</th>\n",
       "      <th>text</th>\n",
       "      <th>likeCount</th>\n",
       "      <th>totalReplyCount</th>\n",
       "      <th>author</th>\n",
       "      <th>timeline</th>\n",
       "    </tr>\n",
       "  </thead>\n",
       "  <tbody>\n",
       "    <tr>\n",
       "      <th>0</th>\n",
       "      <td>0</td>\n",
       "      <td>0</td>\n",
       "      <td>-74iHBJy4xU</td>\n",
       "      <td>UgxoHVgvHDNLkt6TXDh4AaABAg</td>\n",
       "      <td>vote early! the majority of america is sick an...</td>\n",
       "      <td>4</td>\n",
       "      <td>1</td>\n",
       "      <td>Frank Merfalen</td>\n",
       "      <td>2020-10-19 00:00:01+00:00</td>\n",
       "    </tr>\n",
       "    <tr>\n",
       "      <th>1</th>\n",
       "      <td>1</td>\n",
       "      <td>1</td>\n",
       "      <td>xmW00oZoNcM</td>\n",
       "      <td>UgxLObImDQVnPGNXRbB4AaABAg</td>\n",
       "      <td>putting them in the worst possible light . \\nr...</td>\n",
       "      <td>0</td>\n",
       "      <td>0</td>\n",
       "      <td>morning coffee</td>\n",
       "      <td>2020-10-19 00:00:24+00:00</td>\n",
       "    </tr>\n",
       "    <tr>\n",
       "      <th>2</th>\n",
       "      <td>2</td>\n",
       "      <td>2</td>\n",
       "      <td>oTLNgK2j-Bk</td>\n",
       "      <td>UgwDsb_F81D0Ce9W-Od4AaABAg</td>\n",
       "      <td>debates hands down ! the fly landed on mike pe...</td>\n",
       "      <td>1</td>\n",
       "      <td>0</td>\n",
       "      <td>Roman Ward</td>\n",
       "      <td>2020-10-19 00:01:11+00:00</td>\n",
       "    </tr>\n",
       "    <tr>\n",
       "      <th>3</th>\n",
       "      <td>3</td>\n",
       "      <td>3</td>\n",
       "      <td>-74iHBJy4xU</td>\n",
       "      <td>Ugw_1P5ss3TXcMU5P6J4AaABAg</td>\n",
       "      <td>joe biden does not do anything how he going to...</td>\n",
       "      <td>0</td>\n",
       "      <td>0</td>\n",
       "      <td>Hmong Shee Yee</td>\n",
       "      <td>2020-10-19 00:01:17+00:00</td>\n",
       "    </tr>\n",
       "    <tr>\n",
       "      <th>4</th>\n",
       "      <td>4</td>\n",
       "      <td>4</td>\n",
       "      <td>dC6PxLJ3dDU</td>\n",
       "      <td>UgyfpHlIaf_iVhpX8ER4AaABAg</td>\n",
       "      <td>what part of mail in voting and absentee votin...</td>\n",
       "      <td>0</td>\n",
       "      <td>0</td>\n",
       "      <td>Allan Cresswell</td>\n",
       "      <td>2020-10-19 00:01:19+00:00</td>\n",
       "    </tr>\n",
       "  </tbody>\n",
       "</table>\n",
       "</div>"
      ],
      "text/plain": [
       "   Unnamed: 0.1  Unnamed: 0      videoId                   commentId  \\\n",
       "0             0           0  -74iHBJy4xU  UgxoHVgvHDNLkt6TXDh4AaABAg   \n",
       "1             1           1  xmW00oZoNcM  UgxLObImDQVnPGNXRbB4AaABAg   \n",
       "2             2           2  oTLNgK2j-Bk  UgwDsb_F81D0Ce9W-Od4AaABAg   \n",
       "3             3           3  -74iHBJy4xU  Ugw_1P5ss3TXcMU5P6J4AaABAg   \n",
       "4             4           4  dC6PxLJ3dDU  UgyfpHlIaf_iVhpX8ER4AaABAg   \n",
       "\n",
       "                                                text  likeCount  \\\n",
       "0  vote early! the majority of america is sick an...          4   \n",
       "1  putting them in the worst possible light . \\nr...          0   \n",
       "2  debates hands down ! the fly landed on mike pe...          1   \n",
       "3  joe biden does not do anything how he going to...          0   \n",
       "4  what part of mail in voting and absentee votin...          0   \n",
       "\n",
       "   totalReplyCount           author                   timeline  \n",
       "0                1   Frank Merfalen  2020-10-19 00:00:01+00:00  \n",
       "1                0   morning coffee  2020-10-19 00:00:24+00:00  \n",
       "2                0       Roman Ward  2020-10-19 00:01:11+00:00  \n",
       "3                0   Hmong Shee Yee  2020-10-19 00:01:17+00:00  \n",
       "4                0  Allan Cresswell  2020-10-19 00:01:19+00:00  "
      ]
     },
     "metadata": {},
     "output_type": "display_data"
    }
   ],
   "source": [
    "obj = topic_modeling('Output/trimmed_pre_election_punctuation_CNN_20')\n",
    "obj.display()"
   ]
  },
  {
   "cell_type": "code",
   "execution_count": null,
   "metadata": {
    "id": "-jvHCVqyZ5Va"
   },
   "outputs": [],
   "source": [
    "obj.bert_topic_modeling() # Deafult parameters (min_cluster_size = 2500,min_samples=1000,n_neighbors=200)"
   ]
  },
  {
   "cell_type": "code",
   "execution_count": 14,
   "metadata": {
    "id": "BRYXpWppb1-u"
   },
   "outputs": [],
   "source": [
    "obj.save_models(\"topic_model_2500\") # Saving"
   ]
  },
  {
   "cell_type": "code",
   "execution_count": null,
   "metadata": {
    "id": "8qXfMjTui9__"
   },
   "outputs": [],
   "source": [
    "#obj.load_model(\"topic_model_2500\") #Loading"
   ]
  },
  {
   "cell_type": "code",
   "execution_count": null,
   "metadata": {
    "id": "ZzQoaM4scI2P"
   },
   "outputs": [],
   "source": [
    "obj.analyze_topics(0) # Default parameters (get_topic = n,visualise_topics=False,visualize_hierarchy=False)"
   ]
  },
  {
   "cell_type": "code",
   "execution_count": null,
   "metadata": {},
   "outputs": [],
   "source": [
    "df = obj.get_dataframe()"
   ]
  },
  {
   "cell_type": "code",
   "execution_count": null,
   "metadata": {},
   "outputs": [],
   "source": [
    "df['topics'].value_counts()"
   ]
  }
 ],
 "metadata": {
  "accelerator": "GPU",
  "colab": {
   "provenance": []
  },
  "gpuClass": "standard",
  "kernelspec": {
   "display_name": "Python 3 (ipykernel)",
   "language": "python",
   "name": "python3"
  },
  "language_info": {
   "codemirror_mode": {
    "name": "ipython",
    "version": 3
   },
   "file_extension": ".py",
   "mimetype": "text/x-python",
   "name": "python",
   "nbconvert_exporter": "python",
   "pygments_lexer": "ipython3",
   "version": "3.9.12"
  }
 },
 "nbformat": 4,
 "nbformat_minor": 1
}
