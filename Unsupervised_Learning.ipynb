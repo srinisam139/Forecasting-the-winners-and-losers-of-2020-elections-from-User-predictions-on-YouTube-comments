{
 "cells": [
  {
   "cell_type": "code",
   "execution_count": null,
   "id": "66068d00",
   "metadata": {
    "id": "66068d00"
   },
   "outputs": [],
   "source": [
    "!pip install sentence_transformers"
   ]
  },
  {
   "cell_type": "code",
   "execution_count": null,
   "id": "1be6f035",
   "metadata": {
    "id": "1be6f035"
   },
   "outputs": [],
   "source": [
    "import pandas as pd\n",
    "import numpy as np\n",
    "from textblob import TextBlob\n",
    "import re\n",
    "from nltk.stem import PorterStemmer\n",
    "import nltk\n",
    "import json\n",
    "from tqdm import tqdm\n",
    "from sentence_transformers import SentenceTransformer\n",
    "from sklearn.metrics.pairwise import cosine_similarity\n",
    "pd.options.mode.chained_assignment = None\n",
    "import plotly.express as px\n",
    "import plotly.graph_objects as go"
   ]
  },
  {
   "cell_type": "code",
   "execution_count": null,
   "id": "6beae8b4",
   "metadata": {
    "id": "6beae8b4"
   },
   "outputs": [],
   "source": [
    "class labeling_votes():\n",
    "    \n",
    "    def __init__(self, filename):\n",
    "        self.name = filename\n",
    "        self.df = pd.read_csv(filename+\".csv\")\n",
    "        self.dictionary = {}\n",
    "        #self.model = SentenceTransformer('bert-base-nli-mean-tokens')\n",
    "        \n",
    "    def get_dataframe(self):\n",
    "        return self.df\n",
    "\n",
    "    def display(self):\n",
    "        display(self.df.head())\n",
    "\n",
    "    def preprocess(self):\n",
    "        for index,line in enumerate(self.df['text']):\n",
    "            line = line.replace(\"\\\\n\",\"\") # Replacing New Lines\n",
    "            line = re.sub('\\S*@\\S*\\s?','',line)   #Replacing emails\n",
    "            line = re.sub('[^a-z]+',' ',line) #Replacing alphanumeric characters\n",
    "            self.df['text'][index] = line\n",
    "    \n",
    "    def find_patterns(self):\n",
    "        master_list = []\n",
    "        list_counter = -1\n",
    "        self.df['target'] = \"\"\n",
    "        for index,text in enumerate(self.df['text']):\n",
    "            py_stem = PorterStemmer()\n",
    "            tokens = [py_stem.stem(word) for word in text.split()]\n",
    "            if re.search('vote (blue|left|biden|joe|liber)|(joe|biden|harris) will win|(harris|joe|biden) 2020|vote (donald|trump) out|(im|i\\'m) vote biden', \" \".join(tokens)):\n",
    "                self.df['target'][index] = \"biden\"\n",
    "            elif re.search('vote (red|right|conserv)|(trump|donald) will win|(trump|donald) 2020|vote (biden|joe|harris|harry) out|(im|i\\'m) vote trump', \" \".join(tokens)):\n",
    "                self.df['target'][index] = \"trump\"\n",
    "            \n",
    "    def create_example_list(self):\n",
    "        with open('example.txt') as f:\n",
    "            data = f.read()\n",
    "            # reconstructing the data as a dictionary\n",
    "            self.dictionary = json.loads(data)\n",
    "            \n",
    "    def label_data(self):\n",
    "        embeddings_list = []\n",
    "        voting_list = []\n",
    "      #print(self.dictionary.keys())\n",
    "        for key, value in self.dictionary.items():\n",
    "            if \"biden_criticize\" in str(key):\n",
    "                voting_list.append(\"trump\")\n",
    "            elif \"trump_criticize\" in str(key):\n",
    "                voting_list.append(\"biden\")\n",
    "            elif \"trump_wins\" in str(key):\n",
    "                voting_list.append(\"trump\")\n",
    "            elif \"biden_wins\" in str(key):\n",
    "                voting_list.append(\"biden\")\n",
    "            embeddings_list.append(self.model.encode(self.dictionary[key]))\n",
    "            print(self.dictionary.keys())\n",
    "            print(voting_list)\n",
    "        for doc_index, text in enumerate(self.df['text']):\n",
    "            max = 0\n",
    "            max_index = 0\n",
    "            if self.df['target'][doc_index] == \"\":\n",
    "                print(doc_index)\n",
    "                if re.search(\"trump|biden\",text):\n",
    "                    line = re.sub('[^a-z]+',' ',text)\n",
    "                    test_embeddings = self.model.encode(line)\n",
    "                    for emb_index, embeddings in enumerate(embeddings_list):\n",
    "                        value = np.max(cosine_similarity([test_embeddings],embeddings))\n",
    "                        #print(\"value: \",value)\n",
    "                        if value > max:\n",
    "                            #print(doc_index)\n",
    "                            #print(\"index: \",doc_index,\" \",\"emb_index: \",emb_index)\n",
    "                            max = value\n",
    "                            max_index = emb_index\n",
    "                    self.df['target'][doc_index] = voting_list[max_index]\n",
    "    \n",
    "    def analysis_winner(self):\n",
    "        self.df['timeline'] = df['timeline'].apply(lambda x: x[:10])\n",
    "\n",
    "        trump_df = self.df[self.df['target'] == 'trump']\n",
    "        biden_df = self.df[self.df['target'] == 'biden']\n",
    "\n",
    "        trump_dictionary = {}\n",
    "        biden_dictionary = {}\n",
    "\n",
    "        for value in self.df['timeline'].unique():\n",
    "            trump_dictionary[value] = len(trump_df[trump_df['timeline'] == value])\n",
    "            biden_dictionary[value] = len(biden_df[biden_df['timeline'] == value])\n",
    "\n",
    "        fig = go.Figure(data=[\n",
    "          go.Bar(name='Trump', x=list(trump_dictionary.keys()), y= list(trump_dictionary.values())),\n",
    "          go.Bar(name='Biden', x=list(biden_dictionary.keys()), y=list(biden_dictionary.values()))\n",
    "        ])\n",
    "        # Change the bar mode\n",
    "        fig.update_layout(barmode='group', title=\"15 days span before 2020 Presidential Election\")\n",
    "        fig.show('colab')\n",
    "\n",
    "        fig = px.histogram(df, x=\"target\", text_auto=True, title=\"Total votes in 2020 Presidential Election\")\n",
    "        fig.show('colab')\n",
    "      \n",
    "    def save_dataframe(self):\n",
    "        self.df.to_csv(\"labeled_votes.csv\")"
   ]
  },
  {
   "cell_type": "code",
   "execution_count": null,
   "id": "de987e83",
   "metadata": {
    "id": "de987e83"
   },
   "outputs": [],
   "source": [
    "obj = labeling_votes(\"trimmed_pre_election_punctuation_CNN_20\")\n",
    "obj.preprocess()\n",
    "obj.find_patterns()\n",
    "obj.create_example_list()\n",
    "obj.label_data()\n",
    "obj.save_dataframe()\n",
    "obj.analysis_winner()"
   ]
  },
  {
   "cell_type": "code",
   "execution_count": null,
   "id": "a8d1e661",
   "metadata": {},
   "outputs": [],
   "source": [
    "from sentence_transformers import SentenceTransformer\n",
    "from sklearn.metrics.pairwise import cosine_similarity"
   ]
  },
  {
   "cell_type": "code",
   "execution_count": null,
   "id": "89b537e4",
   "metadata": {},
   "outputs": [],
   "source": [
    "model = SentenceTransformer('bert-base-nli-mean-tokens')\n",
    "sen = model.encode(\"china wants biden to win badly.\")\n",
    "exp = model.encode(\"if beijing biden wins the china wins\")"
   ]
  }
 ],
 "metadata": {
  "colab": {
   "provenance": []
  },
  "kernelspec": {
   "display_name": "Python 3 (ipykernel)",
   "language": "python",
   "name": "python3"
  },
  "language_info": {
   "codemirror_mode": {
    "name": "ipython",
    "version": 3
   },
   "file_extension": ".py",
   "mimetype": "text/x-python",
   "name": "python",
   "nbconvert_exporter": "python",
   "pygments_lexer": "ipython3",
   "version": "3.9.12"
  }
 },
 "nbformat": 4,
 "nbformat_minor": 5
}
