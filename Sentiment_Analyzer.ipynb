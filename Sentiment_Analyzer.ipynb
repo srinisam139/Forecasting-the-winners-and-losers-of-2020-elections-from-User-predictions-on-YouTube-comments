{
 "cells": [
  {
   "cell_type": "code",
   "execution_count": null,
   "id": "aee5bdd2",
   "metadata": {},
   "outputs": [],
   "source": [
    "!pip install textblob"
   ]
  },
  {
   "cell_type": "code",
   "execution_count": null,
   "id": "1be6f035",
   "metadata": {},
   "outputs": [],
   "source": [
    "import pandas as pd\n",
    "from textblob import TextBlob"
   ]
  },
  {
   "cell_type": "code",
   "execution_count": null,
   "id": "d13b5905",
   "metadata": {},
   "outputs": [],
   "source": [
    "def load_dataframe(filename):\n",
    "    df = pd.read_csv(filename+\".csv\")\n",
    "    return df"
   ]
  },
  {
   "cell_type": "code",
   "execution_count": null,
   "id": "73c72779",
   "metadata": {},
   "outputs": [],
   "source": [
    "def split_dataframe(df):\n",
    "    trump_df = df[df['topics'] == 0]\n",
    "    biden_df = df[df['topics'] == 1]\n",
    "    unassigned_df = df[df['topics'] == -1]\n",
    "    return trump_df, biden_df, unassigned_df"
   ]
  },
  {
   "cell_type": "code",
   "execution_count": null,
   "id": "0b1d4de3",
   "metadata": {},
   "outputs": [],
   "source": [
    "def sentiment_analysis(df):\n",
    "    def getSubjectivity(text):\n",
    "        return TextBlob(text).sentiment.subjectivity\n",
    "\n",
    "    #Create a function to get the polarity\n",
    "    def getPolarity(text):\n",
    "        return TextBlob(text).sentiment.polarity\n",
    "\n",
    "    #Create two new columns ‘Subjectivity’ & ‘Polarity’\n",
    "    df['TextBlob_Subjectivity'] =    df['docs'].apply(getSubjectivity)\n",
    "    df['TextBlob_Polarity'] = df['docs'].apply(getPolarity)\n",
    "    def getAnalysis(score):\n",
    "        if score < 0:\n",
    "            return 'Negative'\n",
    "        elif score == 0:\n",
    "            return 'Neutral'\n",
    "        else:\n",
    "            return 'Positive'\n",
    "    df['TextBlob_Analysis'] = df['TextBlob_Polarity'].apply(getAnalysis)\n",
    "    return df"
   ]
  },
  {
   "cell_type": "markdown",
   "id": "b461a843",
   "metadata": {},
   "source": [
    "## Main"
   ]
  },
  {
   "cell_type": "code",
   "execution_count": null,
   "id": "20792992",
   "metadata": {},
   "outputs": [],
   "source": [
    "df = load_dataframe(\"Output/topic_model_2500_dataframe\")\n",
    "trump_df,biden_df,unassigned_df = split_dataframe(df)"
   ]
  },
  {
   "cell_type": "markdown",
   "id": "052bed03",
   "metadata": {},
   "source": [
    "### Trump Analysis"
   ]
  },
  {
   "cell_type": "code",
   "execution_count": null,
   "id": "07d2e108",
   "metadata": {},
   "outputs": [],
   "source": [
    "trump_sentiment = sentiment_analysis(trump_df)"
   ]
  },
  {
   "cell_type": "markdown",
   "id": "985f5a2d",
   "metadata": {},
   "source": [
    "## Biden Analysis"
   ]
  },
  {
   "cell_type": "code",
   "execution_count": null,
   "id": "6ca3d136",
   "metadata": {},
   "outputs": [],
   "source": [
    "biden_sentiment = sentiment_analysis(biden_df)"
   ]
  },
  {
   "cell_type": "markdown",
   "id": "066374c7",
   "metadata": {},
   "source": [
    "## Saving"
   ]
  },
  {
   "cell_type": "code",
   "execution_count": null,
   "id": "321d3bbd",
   "metadata": {},
   "outputs": [],
   "source": [
    "combined_sentiment = pd.concat([trump_sentiment,biden_sentiment])"
   ]
  },
  {
   "cell_type": "code",
   "execution_count": null,
   "id": "957b89fc",
   "metadata": {},
   "outputs": [],
   "source": [
    "combined_sentiment.to_csv(\"Output/combined_sentiment.csv\")"
   ]
  }
 ],
 "metadata": {
  "kernelspec": {
   "display_name": "Python 3 (ipykernel)",
   "language": "python",
   "name": "python3"
  },
  "language_info": {
   "codemirror_mode": {
    "name": "ipython",
    "version": 3
   },
   "file_extension": ".py",
   "mimetype": "text/x-python",
   "name": "python",
   "nbconvert_exporter": "python",
   "pygments_lexer": "ipython3",
   "version": "3.9.12"
  }
 },
 "nbformat": 4,
 "nbformat_minor": 5
}
